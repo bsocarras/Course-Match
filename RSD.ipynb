{
 "cells": [
  {
   "cell_type": "code",
   "execution_count": 1,
   "metadata": {},
   "outputs": [],
   "source": [
    "import numpy as np\n",
    "import math\n",
    "import heapq \n",
    "import random\n",
    "    \n",
    "# Takes an agent's values, returns index of most values item for this agent's values\n",
    "# Invariant: v is a 1-D array with items not to be considered (already assigned) already excluded\n",
    "def find_favored_item(v):\n",
    "    max_val = 0\n",
    "    max_index = None\n",
    "    for i in range(v.size):\n",
    "        if v[i] >= max_val:\n",
    "            max_index = i\n",
    "    return max_index\n",
    "\n",
    "# Takes number of agents, returns list of order that agents select items in\n",
    "def rand_order_u01(num_agents):\n",
    "    pq = []\n",
    "    for i in range(num_agents):\n",
    "        heapq.heappush(pq, (random.random(), i))\n",
    "    pq.sort()\n",
    "    print(\"pq: \", pq)\n",
    "    order = []\n",
    "    for pair in pq: \n",
    "        order.append(pair[1])\n",
    "    return order\n",
    "\n",
    "# Random Serial Dictatorship algorithm\n",
    "# V is an NxM numpy.ndarray detailing N agent's values for M items, returns array mapping items to agents\n",
    "# \n",
    "def RSD(V):\n",
    "    # Check that V is an numpy.ndarray\n",
    "    if type(V) is not np.ndarray:\n",
    "        raise Exception(\"V is not a numpy.ndarray\")\n",
    "\n",
    "    # Assignments that map items (A indices) to agents (V row indices stored in A)\n",
    "    A = np.zeros(V.shape)\n",
    "\n",
    "    taken = [] # list of items that have been assigned\n",
    "\n",
    "    # Actual RSD Algorithm\n",
    "    order = rand_order_u01(V.shape[0])\n",
    "    print(\"order: \", order)\n",
    "    for o in order: \n",
    "        f_item = find_favored_item(np.delete(V[o], taken)) \n",
    "        if f_item is None:\n",
    "            break\n",
    "        taken.append(f_item)\n",
    "        A[o][f_item] = 1\n",
    "\n",
    "    return A"
   ]
  },
  {
   "cell_type": "code",
   "execution_count": 48,
   "metadata": {},
   "outputs": [
    {
     "name": "stdout",
     "output_type": "stream",
     "text": [
      "pq:  [(0.40659463321934075, 2), (0.4277996150041179, 1), (0.4509013720744195, 0)]\n",
      "order:  [2, 1, 0]\n"
     ]
    },
    {
     "data": {
      "text/plain": [
       "array([[1., 0., 0.],\n",
       "       [0., 1., 0.],\n",
       "       [0., 0., 1.]])"
      ]
     },
     "execution_count": 48,
     "metadata": {},
     "output_type": "execute_result"
    }
   ],
   "source": []
  },
  {
   "cell_type": "code",
   "execution_count": null,
   "metadata": {},
   "outputs": [],
   "source": []
  }
 ],
 "metadata": {
  "kernelspec": {
   "display_name": "Python 3",
   "language": "python",
   "name": "python3"
  },
  "language_info": {
   "codemirror_mode": {
    "name": "ipython",
    "version": 3
   },
   "file_extension": ".py",
   "mimetype": "text/x-python",
   "name": "python",
   "nbconvert_exporter": "python",
   "pygments_lexer": "ipython3",
   "version": "3.7.4"
  }
 },
 "nbformat": 4,
 "nbformat_minor": 2
}
