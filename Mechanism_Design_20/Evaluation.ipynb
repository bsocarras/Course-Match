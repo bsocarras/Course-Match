{
 "cells": [
  {
   "cell_type": "code",
   "execution_count": 17,
   "metadata": {},
   "outputs": [],
   "source": [
    "import numpy as np\n",
    "import pandas as pd\n",
    "import math\n",
    "\n",
    "import sys\n",
    "import types\n",
    "\n",
    "import RPI\n",
    "import NBS\n",
    "import RSD\n",
    "import RPIk\n",
    "\n",
    "np.set_printoptions(precision=3)"
   ]
  },
  {
   "cell_type": "code",
   "execution_count": 18,
   "metadata": {},
   "outputs": [],
   "source": [
    "# Returns size x size matrices that, in theory, should yield an RSD:NBS worst case approximation of size \n",
    "# Takes the size of matrix (# of agents and items)\n",
    "def n_approx_val_generator(size):\n",
    "    \n",
    "    eps = sys.float_info.epsilon\n",
    "    V = np.zeros(shape=(size, size))\n",
    "    \n",
    "    V[0][0] = 1\n",
    "    for i in range(1, size):\n",
    "        V[i][0] = 1\n",
    "        V[i][i] = float(1-eps)\n",
    "    \n",
    "    return V"
   ]
  },
  {
   "cell_type": "code",
   "execution_count": 19,
   "metadata": {},
   "outputs": [],
   "source": [
    "def i_mat(size):\n",
    "    V = np.zeros((size, size))\n",
    "    for i in range(size):\n",
    "        V[i][i] = 1\n",
    "    return V"
   ]
  },
  {
   "cell_type": "code",
   "execution_count": 20,
   "metadata": {},
   "outputs": [],
   "source": [
    "def monte_carlo_RPI(V, n):\n",
    "    max_size = max(V.shape[0], V.shape[1])\n",
    "    p = np.zeros((max_size, max_size))\n",
    "    for i in range(n):\n",
    "        p = np.add(p, RPI.RPI(V, 4))\n",
    "        \n",
    "    ax_0 = []\n",
    "    for i in range(V.shape[0], p.shape[0]):\n",
    "        ax_0.append(i)\n",
    "    p = np.delete(p, ax_0, 0)\n",
    "    \n",
    "    ax_1 = []\n",
    "    for j in range(V.shape[1], p.shape[1]):\n",
    "        ax_1.append(j)\n",
    "    p = np.delete(p, ax_1, 1)\n",
    "        \n",
    "    return p/n"
   ]
  },
  {
   "cell_type": "code",
   "execution_count": 21,
   "metadata": {},
   "outputs": [],
   "source": [
    "def monte_carlo_RPIk(V, n):\n",
    "    max_size = max(V.shape[0], V.shape[1])\n",
    "    p = np.zeros((max_size, max_size))\n",
    "    for i in range(n):\n",
    "        p = np.add(p, RPIk.RPIk(V, 1))\n",
    "        \n",
    "    ax_0 = []\n",
    "    for i in range(V.shape[0], p.shape[0]):\n",
    "        ax_0.append(i)\n",
    "    p = np.delete(p, ax_0, 0)\n",
    "    \n",
    "    ax_1 = []\n",
    "    for j in range(V.shape[1], p.shape[1]):\n",
    "        ax_1.append(j)\n",
    "    p = np.delete(p, ax_1, 1)\n",
    "        \n",
    "    return p/n"
   ]
  },
  {
   "cell_type": "code",
   "execution_count": 22,
   "metadata": {},
   "outputs": [],
   "source": [
    "# Returns expected value of agent/item utility matrix determined empirically\n",
    "# Takes value matrix, optionally number of iterations (default 1000)\n",
    "def monte_carlo_RSD(V, n):     \n",
    "    p = np.zeros(V.shape)\n",
    "    for i in range(n):\n",
    "        p = np.add(p, RSD.RSD(V))\n",
    "    return p/n"
   ]
  },
  {
   "cell_type": "code",
   "execution_count": 23,
   "metadata": {},
   "outputs": [],
   "source": [
    "# Takes num agents, num items, distribution for agent values to be drawn from, and optionally number of trials\n",
    "# Returns worst-case ratio \n",
    "def worst_case_ratio(V, Func, n=1000):\n",
    "    if not(type(V) == np.ndarray):\n",
    "        raise Exception(\"V must be a numpy.ndarray, currently type: \", type(V))\n",
    "    if not isinstance(Func, types.FunctionType):\n",
    "        raise Exception(\"Func must be a function, currently type: \", type(Func))\n",
    "    if np.ndim(V) != 2:\n",
    "        raise Exception(\"V must be a 2-D np.ndarray. Current shape: \", vals.shape)\n",
    "        \n",
    "    O = np.zeros(V.shape[0])\n",
    "    \n",
    "    P_NBS = NBS.NBS(V,O, np.ones(V.shape[1]))\n",
    "    if P_NBS is None: \n",
    "        raise Exception(\"NBS returned None\")\n",
    "        \n",
    "    P_Func = Func(V, n)\n",
    "        \n",
    "    U_NBS = np.sum(np.multiply(V, P_NBS), axis=1)\n",
    "    U_Func = np.sum(np.multiply(V, P_Func), axis=1)\n",
    "    \n",
    "    U_ratio = np.divide(U_NBS, U_Func)\n",
    "    return np.amax(U_ratio)"
   ]
  },
  {
   "cell_type": "code",
   "execution_count": 24,
   "metadata": {},
   "outputs": [],
   "source": [
    "def same_pref(i, j):\n",
    "    v = np.zeros(shape=(i,j))\n",
    "    v[0] = np.random.rand(1, j)\n",
    "    for k in range(1, i):\n",
    "        v[k] = v[k-1]\n",
    "    return v"
   ]
  },
  {
   "cell_type": "code",
   "execution_count": null,
   "metadata": {},
   "outputs": [],
   "source": [
    "for i in range(5, 1000):\n",
    "    v = i_mat(i)\n",
    "    v[1][1] = 0\n",
    "    v[1][0] = 1\n",
    "    nbs = RPI.RPI(v, 4)\n",
    "    print(\"\\n-------\",i,\"--------\\n\")"
   ]
  },
  {
   "cell_type": "code",
   "execution_count": null,
   "metadata": {
    "scrolled": true
   },
   "outputs": [],
   "source": [
    "print(\"V: \\n\", v)\n",
    "p = RSD.RSD(v)\n",
    "print(\"RSD: \\n\", p)"
   ]
  },
  {
   "cell_type": "code",
   "execution_count": null,
   "metadata": {},
   "outputs": [],
   "source": [
    "max_size = 11 #exclusive\n",
    "min_size = 5 #inclusive\n",
    "assert(min_size >= 4)\n",
    "assert(max_size > min_size)\n",
    "\n",
    "wcr_RPIk = np.zeros(shape=(max_size-min_size, max_size-min_size))\n",
    "wcr_RPI = np.zeros(shape=(max_size-min_size, max_size-min_size))\n",
    "wcr_RSD = np.zeros(shape=(max_size-min_size, max_size-min_size))\n",
    "\n",
    "# i is num agents, j is num courses\n",
    "for i in range(min_size, max_size):\n",
    "    for j in range(min_size, max_size):\n",
    "        v = RPI.pref_att(i, j, 0.5)\n",
    "        wcr_RPIk[i-min_size][j-min_size] = worst_case_ratio(v, monte_carlo_RPIk)\n",
    "        wcr_RPI[i-min_size][j-min_size] = worst_case_ratio(v, monte_carlo_RPI)\n",
    "        wcr_RSD[i-min_size][j-min_size] = worst_case_ratio(v, monte_carlo_RSD)\n",
    "        \n",
    "        "
   ]
  },
  {
   "cell_type": "code",
   "execution_count": null,
   "metadata": {},
   "outputs": [],
   "source": [
    "print(wcr_RPI)"
   ]
  },
  {
   "cell_type": "code",
   "execution_count": null,
   "metadata": {},
   "outputs": [],
   "source": [
    "print(wcr_RSD)"
   ]
  },
  {
   "cell_type": "code",
   "execution_count": null,
   "metadata": {},
   "outputs": [],
   "source": [
    "print(wcr_RPIk)"
   ]
  },
  {
   "cell_type": "code",
   "execution_count": null,
   "metadata": {},
   "outputs": [],
   "source": [
    "min_size = 5\n",
    "max_size = 25\n",
    "wcr_RPIk = np.zeros(max_size-min_size)\n",
    "wcr_RPI = np.zeros(max_size-min_size)\n",
    "wcr_RSD = np.zeros(max_size-min_size)\n",
    "\n",
    "# i is num agents, j is num courses\n",
    "for i in range(min_size, max_size):\n",
    "        v = same_pref(i, i)\n",
    "        \n",
    "        rpi = worst_case_ratio(v, monte_carlo_RPI)\n",
    "        print(\"WCR RPI: \\n\", rpi)\n",
    "        wcr_RPI[i-min_size] = rpi\n",
    "        \n",
    "        rpik = worst_case_ratio(v, monte_carlo_RPIk)\n",
    "        print(\"WCR RPIk: \\n\", rpik)\n",
    "        wcr_RPIk[i-min_size] = rpik\n",
    "        \n",
    "        rsd = worst_case_ratio(v, monte_carlo_RSD)\n",
    "        print(\"RSD: \\n\", rsd)\n",
    "        wcr_RSD[i-min_size] = rsd\n",
    "        \n",
    "        print(\"\\n---------------------------\\n\")\n",
    "        "
   ]
  },
  {
   "cell_type": "code",
   "execution_count": null,
   "metadata": {},
   "outputs": [],
   "source": [
    "print(wcr_RPIk)\n",
    "print(wcr_RSD)"
   ]
  },
  {
   "cell_type": "code",
   "execution_count": 25,
   "metadata": {},
   "outputs": [
    {
     "data": {
      "text/html": [
       "<div>\n",
       "<style scoped>\n",
       "    .dataframe tbody tr th:only-of-type {\n",
       "        vertical-align: middle;\n",
       "    }\n",
       "\n",
       "    .dataframe tbody tr th {\n",
       "        vertical-align: top;\n",
       "    }\n",
       "\n",
       "    .dataframe thead th {\n",
       "        text-align: right;\n",
       "    }\n",
       "</style>\n",
       "<table border=\"1\" class=\"dataframe\">\n",
       "  <thead>\n",
       "    <tr style=\"text-align: right;\">\n",
       "      <th></th>\n",
       "      <th>StartDate</th>\n",
       "      <th>EndDate</th>\n",
       "      <th>Status</th>\n",
       "      <th>IPAddress</th>\n",
       "      <th>Progress</th>\n",
       "      <th>Duration (in seconds)</th>\n",
       "      <th>Finished</th>\n",
       "      <th>RecordedDate</th>\n",
       "      <th>ResponseId</th>\n",
       "      <th>RecipientLastName</th>\n",
       "      <th>...</th>\n",
       "      <th>Q56</th>\n",
       "      <th>Q56_3_TEXT</th>\n",
       "      <th>Q57</th>\n",
       "      <th>Q57_3_TEXT</th>\n",
       "      <th>Q58</th>\n",
       "      <th>Q58_3_TEXT</th>\n",
       "      <th>Q59</th>\n",
       "      <th>Q59_3_TEXT</th>\n",
       "      <th>Q60</th>\n",
       "      <th>Q60_3_TEXT</th>\n",
       "    </tr>\n",
       "  </thead>\n",
       "  <tbody>\n",
       "    <tr>\n",
       "      <td>0</td>\n",
       "      <td>Start Date</td>\n",
       "      <td>End Date</td>\n",
       "      <td>Response Type</td>\n",
       "      <td>IP Address</td>\n",
       "      <td>Progress</td>\n",
       "      <td>Duration (in seconds)</td>\n",
       "      <td>Finished</td>\n",
       "      <td>Recorded Date</td>\n",
       "      <td>Response ID</td>\n",
       "      <td>Recipient Last Name</td>\n",
       "      <td>...</td>\n",
       "      <td>CS 397/497 - Riesbeck - Selected Choice</td>\n",
       "      <td>CS 397/497 - Riesbeck - Want to Enroll - Text</td>\n",
       "      <td>CS 409 - Selected Choice</td>\n",
       "      <td>CS 409 - Want to Enroll - Text</td>\n",
       "      <td>CS 496 - Makarychev - Selected Choice</td>\n",
       "      <td>CS 496 - Makarychev - Want to Enroll - Text</td>\n",
       "      <td>CS 497 - Zhang - Selected Choice</td>\n",
       "      <td>CS 497 - Zhang - Want to Enroll - Text</td>\n",
       "      <td>CS 497 - O'Rourke - Selected Choice</td>\n",
       "      <td>CS 497 - O'Rourke - Want to Enroll - Text</td>\n",
       "    </tr>\n",
       "    <tr>\n",
       "      <td>1</td>\n",
       "      <td>{\"ImportId\":\"startDate\",\"timeZone\":\"America/De...</td>\n",
       "      <td>{\"ImportId\":\"endDate\",\"timeZone\":\"America/Denv...</td>\n",
       "      <td>{\"ImportId\":\"status\"}</td>\n",
       "      <td>{\"ImportId\":\"ipAddress\"}</td>\n",
       "      <td>{\"ImportId\":\"progress\"}</td>\n",
       "      <td>{\"ImportId\":\"duration\"}</td>\n",
       "      <td>{\"ImportId\":\"finished\"}</td>\n",
       "      <td>{\"ImportId\":\"recordedDate\",\"timeZone\":\"America...</td>\n",
       "      <td>{\"ImportId\":\"_recordId\"}</td>\n",
       "      <td>{\"ImportId\":\"recipientLastName\"}</td>\n",
       "      <td>...</td>\n",
       "      <td>{\"ImportId\":\"QID56\"}</td>\n",
       "      <td>{\"ImportId\":\"QID56_3_TEXT\"}</td>\n",
       "      <td>{\"ImportId\":\"QID57\"}</td>\n",
       "      <td>{\"ImportId\":\"QID57_3_TEXT\"}</td>\n",
       "      <td>{\"ImportId\":\"QID58\"}</td>\n",
       "      <td>{\"ImportId\":\"QID58_3_TEXT\"}</td>\n",
       "      <td>{\"ImportId\":\"QID59\"}</td>\n",
       "      <td>{\"ImportId\":\"QID59_3_TEXT\"}</td>\n",
       "      <td>{\"ImportId\":\"QID60\"}</td>\n",
       "      <td>{\"ImportId\":\"QID60_3_TEXT\"}</td>\n",
       "    </tr>\n",
       "    <tr>\n",
       "      <td>2</td>\n",
       "      <td>2020-08-12 17:26:39</td>\n",
       "      <td>2020-08-12 17:26:50</td>\n",
       "      <td>Survey Preview</td>\n",
       "      <td>NaN</td>\n",
       "      <td>100</td>\n",
       "      <td>11</td>\n",
       "      <td>True</td>\n",
       "      <td>2020-08-12 17:26:51</td>\n",
       "      <td>R_063torU01YuaDv3</td>\n",
       "      <td>NaN</td>\n",
       "      <td>...</td>\n",
       "      <td>NaN</td>\n",
       "      <td>NaN</td>\n",
       "      <td>NaN</td>\n",
       "      <td>NaN</td>\n",
       "      <td>NaN</td>\n",
       "      <td>NaN</td>\n",
       "      <td>NaN</td>\n",
       "      <td>NaN</td>\n",
       "      <td>NaN</td>\n",
       "      <td>NaN</td>\n",
       "    </tr>\n",
       "    <tr>\n",
       "      <td>3</td>\n",
       "      <td>2020-08-13 15:49:58</td>\n",
       "      <td>2020-08-13 15:50:02</td>\n",
       "      <td>Survey Preview</td>\n",
       "      <td>NaN</td>\n",
       "      <td>100</td>\n",
       "      <td>3</td>\n",
       "      <td>True</td>\n",
       "      <td>2020-08-13 15:50:03</td>\n",
       "      <td>R_1BPphpAxrj5kFRR</td>\n",
       "      <td>NaN</td>\n",
       "      <td>...</td>\n",
       "      <td>NaN</td>\n",
       "      <td>NaN</td>\n",
       "      <td>NaN</td>\n",
       "      <td>NaN</td>\n",
       "      <td>NaN</td>\n",
       "      <td>NaN</td>\n",
       "      <td>NaN</td>\n",
       "      <td>NaN</td>\n",
       "      <td>NaN</td>\n",
       "      <td>NaN</td>\n",
       "    </tr>\n",
       "    <tr>\n",
       "      <td>4</td>\n",
       "      <td>2020-08-13 15:52:03</td>\n",
       "      <td>2020-08-13 15:52:08</td>\n",
       "      <td>Survey Preview</td>\n",
       "      <td>NaN</td>\n",
       "      <td>100</td>\n",
       "      <td>5</td>\n",
       "      <td>True</td>\n",
       "      <td>2020-08-13 15:52:09</td>\n",
       "      <td>R_3NOp0xJmLbxJfsP</td>\n",
       "      <td>NaN</td>\n",
       "      <td>...</td>\n",
       "      <td>NaN</td>\n",
       "      <td>NaN</td>\n",
       "      <td>NaN</td>\n",
       "      <td>NaN</td>\n",
       "      <td>NaN</td>\n",
       "      <td>NaN</td>\n",
       "      <td>NaN</td>\n",
       "      <td>NaN</td>\n",
       "      <td>NaN</td>\n",
       "      <td>NaN</td>\n",
       "    </tr>\n",
       "  </tbody>\n",
       "</table>\n",
       "<p>5 rows × 102 columns</p>\n",
       "</div>"
      ],
      "text/plain": [
       "                                           StartDate  \\\n",
       "0                                         Start Date   \n",
       "1  {\"ImportId\":\"startDate\",\"timeZone\":\"America/De...   \n",
       "2                                2020-08-12 17:26:39   \n",
       "3                                2020-08-13 15:49:58   \n",
       "4                                2020-08-13 15:52:03   \n",
       "\n",
       "                                             EndDate                 Status  \\\n",
       "0                                           End Date          Response Type   \n",
       "1  {\"ImportId\":\"endDate\",\"timeZone\":\"America/Denv...  {\"ImportId\":\"status\"}   \n",
       "2                                2020-08-12 17:26:50         Survey Preview   \n",
       "3                                2020-08-13 15:50:02         Survey Preview   \n",
       "4                                2020-08-13 15:52:08         Survey Preview   \n",
       "\n",
       "                  IPAddress                 Progress    Duration (in seconds)  \\\n",
       "0                IP Address                 Progress    Duration (in seconds)   \n",
       "1  {\"ImportId\":\"ipAddress\"}  {\"ImportId\":\"progress\"}  {\"ImportId\":\"duration\"}   \n",
       "2                       NaN                      100                       11   \n",
       "3                       NaN                      100                        3   \n",
       "4                       NaN                      100                        5   \n",
       "\n",
       "                  Finished                                       RecordedDate  \\\n",
       "0                 Finished                                      Recorded Date   \n",
       "1  {\"ImportId\":\"finished\"}  {\"ImportId\":\"recordedDate\",\"timeZone\":\"America...   \n",
       "2                     True                                2020-08-12 17:26:51   \n",
       "3                     True                                2020-08-13 15:50:03   \n",
       "4                     True                                2020-08-13 15:52:09   \n",
       "\n",
       "                 ResponseId                 RecipientLastName  ...  \\\n",
       "0               Response ID               Recipient Last Name  ...   \n",
       "1  {\"ImportId\":\"_recordId\"}  {\"ImportId\":\"recipientLastName\"}  ...   \n",
       "2         R_063torU01YuaDv3                               NaN  ...   \n",
       "3         R_1BPphpAxrj5kFRR                               NaN  ...   \n",
       "4         R_3NOp0xJmLbxJfsP                               NaN  ...   \n",
       "\n",
       "                                       Q56  \\\n",
       "0  CS 397/497 - Riesbeck - Selected Choice   \n",
       "1                     {\"ImportId\":\"QID56\"}   \n",
       "2                                      NaN   \n",
       "3                                      NaN   \n",
       "4                                      NaN   \n",
       "\n",
       "                                      Q56_3_TEXT                       Q57  \\\n",
       "0  CS 397/497 - Riesbeck - Want to Enroll - Text  CS 409 - Selected Choice   \n",
       "1                    {\"ImportId\":\"QID56_3_TEXT\"}      {\"ImportId\":\"QID57\"}   \n",
       "2                                            NaN                       NaN   \n",
       "3                                            NaN                       NaN   \n",
       "4                                            NaN                       NaN   \n",
       "\n",
       "                       Q57_3_TEXT                                    Q58  \\\n",
       "0  CS 409 - Want to Enroll - Text  CS 496 - Makarychev - Selected Choice   \n",
       "1     {\"ImportId\":\"QID57_3_TEXT\"}                   {\"ImportId\":\"QID58\"}   \n",
       "2                             NaN                                    NaN   \n",
       "3                             NaN                                    NaN   \n",
       "4                             NaN                                    NaN   \n",
       "\n",
       "                                    Q58_3_TEXT  \\\n",
       "0  CS 496 - Makarychev - Want to Enroll - Text   \n",
       "1                  {\"ImportId\":\"QID58_3_TEXT\"}   \n",
       "2                                          NaN   \n",
       "3                                          NaN   \n",
       "4                                          NaN   \n",
       "\n",
       "                                Q59                              Q59_3_TEXT  \\\n",
       "0  CS 497 - Zhang - Selected Choice  CS 497 - Zhang - Want to Enroll - Text   \n",
       "1              {\"ImportId\":\"QID59\"}             {\"ImportId\":\"QID59_3_TEXT\"}   \n",
       "2                               NaN                                     NaN   \n",
       "3                               NaN                                     NaN   \n",
       "4                               NaN                                     NaN   \n",
       "\n",
       "                                   Q60  \\\n",
       "0  CS 497 - O'Rourke - Selected Choice   \n",
       "1                 {\"ImportId\":\"QID60\"}   \n",
       "2                                  NaN   \n",
       "3                                  NaN   \n",
       "4                                  NaN   \n",
       "\n",
       "                                  Q60_3_TEXT  \n",
       "0  CS 497 - O'Rourke - Want to Enroll - Text  \n",
       "1                {\"ImportId\":\"QID60_3_TEXT\"}  \n",
       "2                                        NaN  \n",
       "3                                        NaN  \n",
       "4                                        NaN  \n",
       "\n",
       "[5 rows x 102 columns]"
      ]
     },
     "execution_count": 25,
     "metadata": {},
     "output_type": "execute_result"
    }
   ],
   "source": [
    "df = pd.read_csv('/Users/brandosocarras/Documents/Mechanism_Design_20/Course Preferences_August 27, 2020_15.42.csv')\n",
    "df.head()"
   ]
  },
  {
   "cell_type": "code",
   "execution_count": 26,
   "metadata": {},
   "outputs": [
    {
     "data": {
      "text/plain": [
       "RangeIndex(start=0, stop=108, step=1)"
      ]
     },
     "execution_count": 26,
     "metadata": {},
     "output_type": "execute_result"
    }
   ],
   "source": [
    "df.index"
   ]
  },
  {
   "cell_type": "code",
   "execution_count": 27,
   "metadata": {},
   "outputs": [],
   "source": [
    "df_0 = df[df['Status'] == 'IP Address']"
   ]
  },
  {
   "cell_type": "code",
   "execution_count": 28,
   "metadata": {},
   "outputs": [
    {
     "data": {
      "text/plain": [
       "Int64Index([ 10,  11,  12,  13,  14,  15,  16,  17,  18,  19,  20,  21,  22,\n",
       "             23,  24,  25,  26,  27,  28,  29,  30,  31,  32,  33,  34,  35,\n",
       "             36,  37,  38,  39,  40,  41,  42,  43,  44,  45,  46,  47,  48,\n",
       "             49,  50,  51,  52,  53,  54,  55,  56,  57,  58,  59,  60,  61,\n",
       "             62,  63,  64,  65,  66,  67,  68,  69,  70,  71,  72,  73,  74,\n",
       "             75,  76,  77,  78,  79,  80,  81,  82,  83,  84,  85,  86,  87,\n",
       "             88,  89,  90,  91,  92,  93,  94,  95,  96,  97,  98,  99, 100,\n",
       "            101, 102, 103, 104, 105, 106, 107],\n",
       "           dtype='int64')"
      ]
     },
     "execution_count": 28,
     "metadata": {},
     "output_type": "execute_result"
    }
   ],
   "source": [
    "# df_0['Q'+str(24)][14] == 'Not interested'\n",
    "df_0.index"
   ]
  },
  {
   "cell_type": "code",
   "execution_count": 29,
   "metadata": {},
   "outputs": [],
   "source": [
    "course_vals = np.zeros(shape=(98, 61-24))\n",
    "delete = []\n",
    "for j in range(24, 61):\n",
    "    df_Q = df_0['Q' + str(j)]\n",
    "    for i in df_0.index:\n",
    "        if df_Q[i] == 'Want to Enroll':\n",
    "            ans = df_0['Q'+str(j)+'_3_TEXT'][i]\n",
    "            try: \n",
    "                fl_ans = float(ans)\n",
    "            except:\n",
    "                delete.append(i)\n",
    "                continue\n",
    "            if np.isnan(fl_ans):\n",
    "                delete.append(i)\n",
    "                continue\n",
    "            course_vals[i-10][j-24] = fl_ans"
   ]
  },
  {
   "cell_type": "code",
   "execution_count": 30,
   "metadata": {
    "scrolled": true
   },
   "outputs": [
    {
     "name": "stdout",
     "output_type": "stream",
     "text": [
      "[  0.  25.   0.  40. 325.   0.   0. 180.  15.   0.   0.   6.  14.   0.\n",
      " 350. 300.   0.   5.  46.   0.   4. 120.  30.  41.  14. 410.   1. 580.\n",
      " 180.   3.   0.   0.   0.   0.  33.  22.  23. 130.   0.   3.   0.  42.\n",
      "   0. 205.   1.   0.   0.   1. 100.  11.   0.   0. 200.   2. 500.  21.\n",
      "   3.   0.   5. 325. 200.  21. 380.  12.   9.   0.   9. 225.   0.   0.\n",
      "   0.   0.   0.   0. 235.  20. 200.   1.   0.   0.   0.   0.  32.  18.\n",
      "  11.   0.   0.  60. 378. 200.   0.   0. 100.   0.   3.   1. 100. 275.]\n"
     ]
    }
   ],
   "source": [
    "a = np.sum(course_vals, axis=1)\n",
    "print(a)\n",
    "b=[]\n",
    "for i in range(a.size):\n",
    "    if a[i] == 0.0:\n",
    "        if df_0['Q11'][i+10] != 0:\n",
    "            b.append(i)"
   ]
  },
  {
   "cell_type": "code",
   "execution_count": 31,
   "metadata": {},
   "outputs": [
    {
     "data": {
      "text/plain": [
       "37"
      ]
     },
     "execution_count": 31,
     "metadata": {},
     "output_type": "execute_result"
    }
   ],
   "source": [
    "len(b)"
   ]
  },
  {
   "cell_type": "code",
   "execution_count": 32,
   "metadata": {},
   "outputs": [],
   "source": [
    "v = np.delete(course_vals, b, axis=0)"
   ]
  },
  {
   "cell_type": "code",
   "execution_count": 33,
   "metadata": {},
   "outputs": [],
   "source": [
    "def minmax_scale(v):\n",
    "    f_maxs = np.amax(v, axis=1)\n",
    "    for i in range(v.shape[0]):\n",
    "        lmax = f_maxs[i]\n",
    "        for j in range(v.shape[1]):\n",
    "            v[i][j] = v[i][j] / lmax\n",
    "    return v"
   ]
  },
  {
   "cell_type": "code",
   "execution_count": null,
   "metadata": {},
   "outputs": [],
   "source": [
    "# nbs = NBS.NBS(minmax_scale(v), np.zeros(v.shape[0]), np.ones(v.shape[1]))\n",
    "wcr_RPI = worst_case_ratio(minmax_scale(v), monte_carlo_RPI)\n",
    "wcr_RPIk = worst_case_ratio(minmax_scale(v), monte_carlo_RPIk)\n",
    "wcr_RSD = worst_case_ratio(minmax_scale(v), monte_carlo_RSD)"
   ]
  },
  {
   "cell_type": "code",
   "execution_count": null,
   "metadata": {},
   "outputs": [],
   "source": [
    "# 1: Failed on trial 17 index 37\n",
    "# 2: \n",
    "# \n",
    "# 1: Passed First Lap, Failed Second Initial PA Allocation. Indices on Failure: 1,4,6,7,11,12,21,22,24,28,39,48,51,57,60\n",
    "# 2: Failed First Lap, Passed First Initial PA Allocation, Failed on NBS w/o t4 i11. Indices on Failure: 1,2,7,9,11,12,15,17,19,20,22,23,25,26,28,30,32,34,35,36,37,38,40,43,45,50,51,52,54,56,58\n",
    "# 3: Failed First Lap, Failed First Initial PA Allocation, Indices on Failure: 0,1,5,11,14,15,16,17,19,22,23,24,28,29,32,33,34,37,38,40,43,43,47,48,49,51,52,53,55,57,59\n",
    "# 4: Passed First Lap, Failed Second Initial PA Allocation. Indices on Failure: 1,2,16,18,19,32,35,37,39,41,48,52,54,56,59\n",
    "# 5: Passed Second Lap, Passed Third Initial PA Allocation, Failed on NBS w/o t1 i10. Indices on Failure: 10,17,22,26,28,44,46,54\n",
    "# 6: Passed First Lap, Passed Second Initial PA Alllocation, Failed on NBS w/o t1 i1. Indices on Failure: 1,3,8,13,19,25,28,29,32,37,45,48,57,58,60"
   ]
  },
  {
   "cell_type": "code",
   "execution_count": null,
   "metadata": {},
   "outputs": [],
   "source": [
    "# New Strat\n",
    "# \n",
    "# "
   ]
  },
  {
   "cell_type": "code",
   "execution_count": null,
   "metadata": {},
   "outputs": [],
   "source": [
    "def pairsq(lsts, next_i):\n",
    "    "
   ]
  },
  {
   "cell_type": "code",
   "execution_count": null,
   "metadata": {},
   "outputs": [],
   "source": []
  }
 ],
 "metadata": {
  "kernelspec": {
   "display_name": "Python 3",
   "language": "python",
   "name": "python3"
  }
 },
 "nbformat": 4,
 "nbformat_minor": 2
}
