{
 "cells": [
  {
   "cell_type": "code",
   "execution_count": 2,
   "metadata": {},
   "outputs": [],
   "source": [
    "import numpy as np\n",
    "import math\n",
    "import heapq \n",
    "import random"
   ]
  },
  {
   "cell_type": "code",
   "execution_count": 86,
   "metadata": {},
   "outputs": [],
   "source": [
    "# Takes an agent's values, returns index of most values item for this agent's values\n",
    "# Invariant: v is a 1-D array with items not to be considered (already assigned) already excluded\n",
    "def find_favored_item(v, taken_cp):\n",
    "    max_val = 0\n",
    "    max_index = None\n",
    "    curr = 0\n",
    "    while len(taken_cp) != 0:\n",
    "        min_tcp = min(taken_cp)\n",
    "        for i in range(curr, min_tcp):\n",
    "            if v[i] >= max_val:\n",
    "                max_index = i\n",
    "                max_val = v[i]\n",
    "            curr += 1\n",
    "        taken_cp.remove(min_tcp)\n",
    "        curr += 1\n",
    "    for i in range(curr, v.size):\n",
    "            if v[i] >= max_val:\n",
    "                max_index = i\n",
    "                max_val = v[i]\n",
    "        \n",
    "    return max_index"
   ]
  },
  {
   "cell_type": "code",
   "execution_count": 74,
   "metadata": {},
   "outputs": [],
   "source": [
    "# Takes number of agents, returns list of order that agents select items in\n",
    "def rand_order_u01(num_agents):\n",
    "    pq = []\n",
    "    for i in range(num_agents):\n",
    "        heapq.heappush(pq, (random.random(), i))\n",
    "    pq.sort()\n",
    "    order = []\n",
    "    for pair in pq: \n",
    "        order.append(pair[1])\n",
    "    return order"
   ]
  },
  {
   "cell_type": "code",
   "execution_count": 90,
   "metadata": {},
   "outputs": [],
   "source": [
    "# Random Serial Dictatorship algorithm\n",
    "# V is an NxM numpy.ndarray detailing N agent's values for M items, returns array mapping items to agents\n",
    "def RSD(V):\n",
    "    # Check that V is an numpy.ndarray\n",
    "    if type(V) is not np.ndarray:\n",
    "        raise Exception(\"V is not a numpy.ndarray\")\n",
    "\n",
    "    # Assignments that map items (A indices) to agents (V row indices stored in A)\n",
    "    A = np.zeros(V.shape)\n",
    "\n",
    "    taken = [] # list of items that have been assigned\n",
    "\n",
    "    # Actual RSD Algorithm\n",
    "    order = rand_order_u01(V.shape[0])\n",
    "    for o in order: \n",
    "        f_item = find_favored_item(V[o], taken.copy())\n",
    "        if f_item is None:\n",
    "            break\n",
    "        taken.append(f_item)\n",
    "        A[o][f_item] = 1\n",
    "\n",
    "    return A"
   ]
  },
  {
   "cell_type": "code",
   "execution_count": null,
   "metadata": {},
   "outputs": [],
   "source": []
  }
 ],
 "metadata": {
  "kernelspec": {
   "display_name": "Python 3",
   "language": "python",
   "name": "python3"
  },
  "language_info": {
   "codemirror_mode": {
    "name": "ipython",
    "version": 3
   },
   "file_extension": ".py",
   "mimetype": "text/x-python",
   "name": "python",
   "nbconvert_exporter": "python",
   "pygments_lexer": "ipython3",
   "version": "3.7.4"
  }
 },
 "nbformat": 4,
 "nbformat_minor": 2
}
