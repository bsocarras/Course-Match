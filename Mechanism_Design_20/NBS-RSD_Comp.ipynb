{
 "cells": [
  {
   "cell_type": "code",
   "execution_count": 1,
   "metadata": {},
   "outputs": [],
   "source": [
    "import sys\n",
    "import random\n",
    "\n",
    "import numpy as np\n",
    "import math\n",
    "import matplotlib.pyplot as plt\n",
    "from mpl_toolkits import mplot3d\n",
    "\n",
    "import NBS\n",
    "import RSD"
   ]
  },
  {
   "cell_type": "code",
   "execution_count": 2,
   "metadata": {},
   "outputs": [],
   "source": [
    "# U[0 1] Distribution\n",
    "# Takes num items\n",
    "# Returns np.ndarray of shape (num_items,) of values drawn from U[0 1]\n",
    "def uni_0_1(num_items):\n",
    "    bids = np.zeros(num_items)\n",
    "    for b in range(num_items):\n",
    "        bids[b] = np.random.uniform(0,1)\n",
    "    return bids"
   ]
  },
  {
   "cell_type": "code",
   "execution_count": 3,
   "metadata": {},
   "outputs": [],
   "source": [
    "# Quadratic Distribution\n",
    "# Takes num items\n",
    "# Returns np.ndarray of shape (num_items,) of values drawn from Quadratic Distribution\n",
    "def quadratic(num_items):\n",
    "    bids = np.zeros(num_items)\n",
    "    for b in range(num_items):\n",
    "        bids[b] = math.sqrt(np.random.uniform(0,1))\n",
    "    return bids"
   ]
  },
  {
   "cell_type": "code",
   "execution_count": 4,
   "metadata": {},
   "outputs": [],
   "source": [
    "# Square Root Distribution\n",
    "# Takes num items\n",
    "# Returns np.ndarray of shape (num_items,) of values drawn from Square Root Distribution\n",
    "def sqrt(num_items):\n",
    "    bids = np.zeros(num_items)\n",
    "    for b in range(num_items):\n",
    "        bids[b] = (np.random.uniform(0,1))**2\n",
    "    return bids"
   ]
  },
  {
   "cell_type": "code",
   "execution_count": 5,
   "metadata": {},
   "outputs": [],
   "source": [
    "# Preferential Attachment Agent Values\n",
    "# Takes number of agents and items and probablity of uniform values for agents, returns 2-Dimensional Value Matrix type np.ndarray\n",
    "# Agents go one at a time with agent 0's values all random U[0 1]\n",
    "def pref_att(num_agents, num_items, p=0):\n",
    "    if (p > 1) or (p < 0):\n",
    "        raise Exception(\"p must be in the interval [0,1]\")\n",
    "        \n",
    "    if num_agents < 1:\n",
    "        raise Exception(\"num_agents must be > 1\")\n",
    "        \n",
    "    if num_items < 1:\n",
    "        raise Exception(\"num_items must be > 1\")\n",
    "    \n",
    "    V = np.zeros((num_agents, num_items))\n",
    "    V[0] = np.random.rand(num_items)\n",
    "    for i in range(1, num_agents):\n",
    "        r = np.random.rand()\n",
    "        if r <= p:\n",
    "            V[i] = np.ones(num_items) * (float(1/num_items))\n",
    "        else:\n",
    "            item_degrees = np.sum(V, axis=0)\n",
    "            total_degrees = np.sum(V)\n",
    "            for j in range(num_items):\n",
    "                V[i][j] = float(item_degrees[j]/total_degrees)\n",
    "    return V"
   ]
  },
  {
   "cell_type": "code",
   "execution_count": 6,
   "metadata": {},
   "outputs": [],
   "source": [
    "# Takes a 1 x n np.ndarray of probabilities, returns index of selected element\n",
    "# Invariant: array elements must sum to 1\n",
    "def select_item(a):\n",
    "    if type(a) is not np.ndarray:\n",
    "        raise Exception(\"select_item: a must be type np.ndarray. Current type: \", type(a))\n",
    "    \n",
    "    if not(np.isclose(np.sum(a), 1)):\n",
    "        raise Exception(\"select_item: array elements must sum to one. Current a: \", a)\n",
    "    \n",
    "    if a.ndim != 1:\n",
    "        raise Exception(\"select_item: a must be a one-dimensional array. Current dimensions: \", a.shape)\n",
    "        \n",
    "    r = np.random.rand()\n",
    "    a_sum = 0\n",
    "        \n",
    "    for i in range(a.size):\n",
    "        a_curr = a[i]\n",
    "        if r < a_curr + a_sum:\n",
    "            return i\n",
    "        else:\n",
    "            a_sum += a_curr\n",
    "    return i \n",
    "        \n",
    "    "
   ]
  },
  {
   "cell_type": "code",
   "execution_count": 7,
   "metadata": {},
   "outputs": [],
   "source": [
    "# Like pref_att, but instead of assigning probabilities as values, assigns value of 1 or 0\n",
    "def pref_att_1(num_agents, num_items, p=0):\n",
    "    if (p > 1) or (p < 0):\n",
    "        raise Exception(\"p must be in the interval [0,1]. Current p: \", p)\n",
    "        \n",
    "    if num_agents < 1:\n",
    "        raise Exception(\"num_agents must be > 1. Current num_agents: \", num_agents)\n",
    "        \n",
    "    if num_items < 1:\n",
    "        raise Exception(\"num_items must be > 1. Current num_items: \", num_items)\n",
    "        \n",
    "    V = np.zeros((num_agents, num_items))\n",
    "    for j in range(num_items):\n",
    "        V[0][j] = np.random.binomial(1,0.5)\n",
    "        \n",
    "    if np.sum(V) == 0:\n",
    "        V[0][random.randint(0, num_items-1)] = 1\n",
    "    \n",
    "    for i in range(1, num_agents):\n",
    "        r = np.random.rand()\n",
    "        if r <= p:\n",
    "            V[i] = np.ones(num_items) * (float(1/num_items))\n",
    "        else:\n",
    "            item_degrees = np.sum(V, axis=0)\n",
    "            total_degrees = np.sum(V)\n",
    "            \n",
    "#             print(\"Item Degrees: \", item_degrees, \" | Total Degrees: \", total_degrees)\n",
    "            j = select_item(item_degrees / total_degrees)\n",
    "            V[i][j] = 1\n",
    "                    \n",
    "#     print(\"V: \\n\", V)\n",
    "    return V\n",
    "    "
   ]
  },
  {
   "cell_type": "code",
   "execution_count": 8,
   "metadata": {},
   "outputs": [],
   "source": [
    "# Finds max index of array\n",
    "# Takes 1-D np.ndarray, returns index of max value\n",
    "def find_max_index(array):\n",
    "    max_util = 0\n",
    "    max_index = 0\n",
    "    for i in range(array.size):\n",
    "        if array[i] >= max_util:\n",
    "            max_index = i\n",
    "            max_util = array[i]\n",
    "    return max_index"
   ]
  },
  {
   "cell_type": "code",
   "execution_count": 9,
   "metadata": {},
   "outputs": [],
   "source": [
    "# Returns expected value of agent/item utility matrix determined empirically\n",
    "# Takes value matrix, optionally number of iterations (default 1000)\n",
    "def monte_carlo_RDS(V, n=1000):     \n",
    "    # Check to see that V is type numpy.ndarray\n",
    "    if not(type(V) == np.ndarray):\n",
    "        raise Exception(\"V must be a numpy.ndarray, currently type: \", type(V))\n",
    "        \n",
    "    probs = np.zeros(V.shape).astype(float)\n",
    "    for i in range(n):\n",
    "        probs = np.add(probs, RSD.RSD(V))\n",
    "    return np.multiply(V, probs/n)"
   ]
  },
  {
   "cell_type": "code",
   "execution_count": 11,
   "metadata": {},
   "outputs": [],
   "source": [
    "# Returns size x size matrices that, in theory, should yield an RDS:NBS worst case approximation of size \n",
    "# Takes the size of matrix (# of agents and items)\n",
    "def n_approx_val_generator(size):\n",
    "    \n",
    "    eps = sys.float_info.epsilon\n",
    "    V = np.zeros(shape=(size, size))\n",
    "    \n",
    "    V[0][0] = 1\n",
    "    for i in range(1, size):\n",
    "        V[i][0] = 1\n",
    "        V[i][i] = float(1-eps)\n",
    "    \n",
    "    return V"
   ]
  },
  {
   "cell_type": "code",
   "execution_count": 12,
   "metadata": {},
   "outputs": [],
   "source": [
    "# Compares empirical worst-case approximation to theoretical worst case approximation\n",
    "# Returns np.ndarray size (n-2) of error for matrices size 2 - n\n",
    "def test_approx(start=2, end=20):\n",
    "    if end < start:\n",
    "        raise Exception(\"'end' must be greater than or equal to 'start'\")\n",
    "\n",
    "    error = np.zeros(end-start)\n",
    "    for i in range(start, end):\n",
    "        V = n_approx_val_generator(i)\n",
    "        wcr = worst_case_ratio(i,i,uni_0_1, V)\n",
    "#         print(\"Expected: \", i, \" | Actual: \", wcr)\n",
    "        error[i-start] = i - wcr\n",
    "    return error\n"
   ]
  },
  {
   "cell_type": "code",
   "execution_count": 13,
   "metadata": {},
   "outputs": [],
   "source": [
    "def test_pref(start=2, end=20, p=0):\n",
    "    if end < start:\n",
    "        raise Exception(\"'end' must be greater than or equal to 'start'\")\n",
    "        \n",
    "    if (p > 1) or (p < 0):\n",
    "        raise Exception(\"p must be in the interval [0,1]\")\n",
    "        \n",
    "    if start < 2:\n",
    "        raise Exception(\"start must be > 1\")\n",
    "\n",
    "    wcr = np.zeros(shape=end-start)\n",
    "    for i in range(start, end):\n",
    "            V = pref_att(i,i)\n",
    "            wcr[i-start] = worst_case_ratio(i,i,uni_0_1,V)\n",
    "\n",
    "    return wcr"
   ]
  },
  {
   "cell_type": "code",
   "execution_count": 14,
   "metadata": {},
   "outputs": [],
   "source": [
    "def test_pref_1(start=2, end=20, p=0):\n",
    "    if end < start:\n",
    "        raise Exception(\"'end' must be greater than or equal to 'start'\")\n",
    "        \n",
    "    if (p > 1) or (p < 0):\n",
    "        raise Exception(\"p must be in the interval [0,1]\")\n",
    "        \n",
    "    if start < 2:\n",
    "        raise Exception(\"start must be > 1\")\n",
    "\n",
    "    wcr = np.zeros(shape=end-start)\n",
    "    for i in range(start, end):\n",
    "            V = pref_att_1(i,i)\n",
    "            wcr[i-start] = worst_case_ratio(i,i,uni_0_1,V)\n",
    "\n",
    "    return wcr"
   ]
  },
  {
   "cell_type": "code",
   "execution_count": 23,
   "metadata": {},
   "outputs": [],
   "source": [
    "# Takes num agents, num items, distribution for agent values to be drawn from, and optionally number of trials\n",
    "# Returns worst-case ratio \n",
    "def worst_case_ratio(num_agents, num_items, distro, V=None, n=1000):\n",
    "    if V is None:\n",
    "        V = np.zeros((num_agents, num_items))\n",
    "        for i in range(num_agents):\n",
    "            V[i] = distro(num_items)\n",
    "    else:\n",
    "        if not((V.shape[0] == num_agents) and (V.shape[1] == num_items)):\n",
    "            raise Exception(\"Dimensions of V do not match num_agent x num_items. V dims: \", V.shape)\n",
    "    if not(type(V) == np.ndarray):\n",
    "        raise Exception(\"V must be a numpy.ndarray, currently type: \", type(V))\n",
    "        \n",
    "    O = np.zeros(num_agents)\n",
    "#     for i in range(O.size):\n",
    "#         O[i] = np.sum(V[i]) / num_agents\n",
    "    \n",
    "    P_NBS = NBS.NBS(V,O)\n",
    "    if P_NBS is None: \n",
    "        raise Exception(\"NBS failed, returned None\")\n",
    "        \n",
    "    U_NBS = np.sum(np.multiply(V, NBS.NBS(V, O)), axis=1)\n",
    "    U_RDS = np.sum(monte_carlo_RDS(V,n), axis=1)\n",
    "    \n",
    "    U_ratio = np.divide(U_NBS, U_RDS)\n",
    "    return np.amax(U_ratio)"
   ]
  },
  {
   "cell_type": "code",
   "execution_count": 24,
   "metadata": {},
   "outputs": [],
   "source": [
    "# Preferential attachment algorithm. First student's values are all drawn from U[0 1] distribution\n",
    "# For each student following: \n",
    "#     student has same values as above\n",
    "#     for each item student has value for, value will instead be drawn from U[0 1] distrubution with probability p\n",
    "# \n",
    "# Takes num_agents, num_items, p, returns 2-d np.ndarray value matrix\n",
    "def pref_swap(num_agents, num_items, p=0):\n",
    "    if (p > 1) or (p < 0):\n",
    "        raise Exception(\"p must be in the interval [0,1]. Current p: \", p)\n",
    "        \n",
    "    if num_agents < 1:\n",
    "        raise Exception(\"num_agents must be > 1. Current num_agents: \", num_agents)\n",
    "        \n",
    "    if num_items < 1:\n",
    "        raise Exception(\"num_items must be > 1. Current num_items: \", num_items)\n",
    "        \n",
    "    V = np.zeros(shape=(num_agents, num_items))\n",
    "    \n",
    "    # creating first student\n",
    "    V[0] = np.random.rand(num_items)\n",
    "    \n",
    "    # creating rest students\n",
    "    for i in range(1, num_agents):\n",
    "        V[i] = V[i-1]\n",
    "        for j in range(num_agents):\n",
    "            r = np.random.rand()\n",
    "            if r < p:\n",
    "                V[i][j] = np.random.rand()\n",
    "    \n",
    "    return V"
   ]
  },
  {
   "cell_type": "code",
   "execution_count": 36,
   "metadata": {},
   "outputs": [
    {
     "data": {
      "text/plain": [
       "[<matplotlib.lines.Line2D at 0x7fa8105cbdd0>]"
      ]
     },
     "execution_count": 36,
     "metadata": {},
     "output_type": "execute_result"
    },
    {
     "data": {
      "image/png": "[encoded data removed]",
      "text/plain": [
       "<Figure size 432x288 with 1 Axes>"
      ]
     },
     "metadata": {
      "needs_background": "light"
     },
     "output_type": "display_data"
    }
   ],
   "source": [
    "# trials = 100\n",
    "# wcr_sums = np.zeros(101)\n",
    "# for i in range(trials):\n",
    "Q = np.linspace(0,1,101)\n",
    "wcr = np.zeros(101)\n",
    "for q in Q:\n",
    "#     print(q*100)\n",
    "    wcr[int(q*100)] =  worst_case_ratio(10, 10, uni_0_1, V=pref_swap(10, 10, q))\n",
    "#     wcr_sums = np.add(wcr_sums, wcr)\n",
    "plt.figure()\n",
    "plt.plot(Q, wcr)\n"
   ]
  },
  {
   "cell_type": "code",
   "execution_count": null,
   "metadata": {},
   "outputs": [],
   "source": [
    "n = test_pref()\n",
    "for i in range(2, 20):\n",
    "    print(\"WCR for size (\", i, \", \", i, \"): \", n[i-2])"
   ]
  },
  {
   "cell_type": "code",
   "execution_count": null,
   "metadata": {},
   "outputs": [],
   "source": []
  }
 ],
 "metadata": {
  "kernelspec": {
   "display_name": "Python 3",
   "language": "python",
   "name": "python3"
  },
  "language_info": {
   "codemirror_mode": {
    "name": "ipython",
    "version": 3
   },
   "file_extension": ".py",
   "mimetype": "text/x-python",
   "name": "python",
   "nbconvert_exporter": "python",
   "pygments_lexer": "ipython3",
   "version": "3.7.4"
  }
 },
 "nbformat": 4,
 "nbformat_minor": 2
}
