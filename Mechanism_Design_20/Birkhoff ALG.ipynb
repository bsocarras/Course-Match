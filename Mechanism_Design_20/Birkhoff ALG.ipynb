{
 "cells": [
  {
   "cell_type": "code",
   "execution_count": 1,
   "metadata": {},
   "outputs": [],
   "source": [
    "import numpy as np\n",
    "import math\n",
    "\n",
    "# Invariant: S = [sij] is doubly stochastic (should this be checked in the function?) and 0 >= sij >= 1\n",
    "\n",
    "S = np.array([[1/6, 2/3, 0, 1/6],\n",
    "             [1/3, 1/6, 1/2, 0],\n",
    "             [1/3, 1/6, 1/6, 1/3],\n",
    "              [1/6, 0, 1/3, 1/2]])\n",
    "\n",
    "Static = S"
   ]
  },
  {
   "cell_type": "code",
   "execution_count": 2,
   "metadata": {},
   "outputs": [],
   "source": [
    "def more_0(S, S1, Shape):\n",
    "    S_z = 0\n",
    "    S1_z = 0\n",
    "    \n",
    "    for i in range(Shape[0]):\n",
    "        for j in range(Shape[1]):\n",
    "            if S[i][j] == 0: S_z += 1\n",
    "            if S1[i][j] == 0: S1_z += 1\n",
    "    \n",
    "    return S1_z > S_z"
   ]
  },
  {
   "cell_type": "code",
   "execution_count": 3,
   "metadata": {},
   "outputs": [],
   "source": [
    "def find_min_pos(S):\n",
    "    int_max = 999999999999999999999999\n",
    "    min_pos = int_max\n",
    "    shape = S.shape\n",
    "    for i in range(shape[0]):\n",
    "        for j in range(shape[1]):\n",
    "            c = S[i][j]\n",
    "            if c < min_pos and c > 0:\n",
    "                min_pos = c\n",
    "    if min_pos is int_max: \n",
    "        raise Exception('No minimum positive coefficient in this matrix')\n",
    "    else: \n",
    "        return min_pos"
   ]
  },
  {
   "cell_type": "code",
   "execution_count": 4,
   "metadata": {},
   "outputs": [],
   "source": [
    "def Birkhoff(S):\n",
    "    S01 = np.zeros(S.size)\n",
    "    Shape = S.shape\n",
    "    S01.shape = Shape\n",
    "\n",
    "    coeffs = np.empty(0)\n",
    "    perms = []\n",
    "    while not np.array_equal(S, np.zeros(S.shape)):\n",
    "        # Creating S01, S but all non-zero values are made into 1's\n",
    "        for i in range(Shape[0]):\n",
    "            for j in range(Shape[1]):\n",
    "                S01[i][j] = math.ceil(S[i][j])\n",
    "\n",
    "        # Permutation matrix can be <= S01, so I make it equal for simplicity\n",
    "        perm_mat = np.array(S01)\n",
    "\n",
    "        # Smallest coefficient in S is coefficient to permutation matrix in final step\n",
    "        c = find_min_pos(S)\n",
    "\n",
    "        # Final Step: S new = S old - c * Perm Mat\n",
    "        Snew = S - c*perm_mat\n",
    "\n",
    "        # Check to be sure that is a matrix having at least one more zero entry than S\n",
    "        if not (more_0(S, Snew, Shape)):\n",
    "            raise Exception('Less or equal number of zeros in Snew than in S')\n",
    "\n",
    "        perms.append(perm_mat)\n",
    "        coeffs = np.append(coeffs, c)\n",
    "        S = Snew\n",
    "\n",
    "    perms = np.array(perms)\n",
    "    return perms, coeffs"
   ]
  },
  {
   "cell_type": "code",
   "execution_count": 5,
   "metadata": {},
   "outputs": [],
   "source": [
    "def tester(S):\n",
    "    perms, coeffs = Birkhoff(S)\n",
    "    m = np.zeros(S.shape)\n",
    "    for i in range(len(coeffs)):\n",
    "        m = np.add(m, coeffs[i]*perms[i])\n",
    "    if not np.allclose(m, S):\n",
    "        print('Input: \\n', S)\n",
    "        print('Output: \\n', m)\n",
    "        print('Difference: \\n', np.subtract(S, m))\n",
    "        raise Exception('Arrays not Equal')"
   ]
  },
  {
   "cell_type": "code",
   "execution_count": 6,
   "metadata": {},
   "outputs": [],
   "source": [
    "def DS_Generator(n):\n",
    "    x = np.random.random((n,n))\n",
    "    \n",
    "    rsum = None\n",
    "    csum = None\n",
    "\n",
    "    while (np.any(rsum != 1)) | (np.any(csum != 1)):\n",
    "        x /= x.sum(0)\n",
    "        x = x / x.sum(1)[:, np.newaxis]\n",
    "        rsum = x.sum(1)\n",
    "        csum = x.sum(0)\n",
    "        \n",
    "    return x"
   ]
  },
  {
   "cell_type": "code",
   "execution_count": 10,
   "metadata": {},
   "outputs": [
    {
     "name": "stdout",
     "output_type": "stream",
     "text": [
      "2\n",
      "3\n",
      "4\n",
      "5\n",
      "6\n"
     ]
    },
    {
     "ename": "KeyboardInterrupt",
     "evalue": "",
     "output_type": "error",
     "traceback": [
      "\u001b[0;31m---------------------------------------------------------------------------\u001b[0m",
      "\u001b[0;31mKeyboardInterrupt\u001b[0m                         Traceback (most recent call last)",
      "\u001b[0;32m<ipython-input-10-b9abf0e1a6d1>\u001b[0m in \u001b[0;36m<module>\u001b[0;34m\u001b[0m\n\u001b[1;32m      3\u001b[0m     \u001b[0mm\u001b[0m \u001b[0;34m=\u001b[0m \u001b[0mDS_Generator\u001b[0m\u001b[0;34m(\u001b[0m\u001b[0mi\u001b[0m\u001b[0;34m)\u001b[0m\u001b[0;34m\u001b[0m\u001b[0;34m\u001b[0m\u001b[0m\n\u001b[1;32m      4\u001b[0m     \u001b[0;32massert\u001b[0m\u001b[0;34m(\u001b[0m\u001b[0mnp\u001b[0m\u001b[0;34m.\u001b[0m\u001b[0mallclose\u001b[0m\u001b[0;34m(\u001b[0m\u001b[0mm\u001b[0m\u001b[0;34m.\u001b[0m\u001b[0msum\u001b[0m\u001b[0;34m(\u001b[0m\u001b[0;36m0\u001b[0m\u001b[0;34m)\u001b[0m\u001b[0;34m,\u001b[0m \u001b[0mnp\u001b[0m\u001b[0;34m.\u001b[0m\u001b[0mones\u001b[0m\u001b[0;34m(\u001b[0m\u001b[0mi\u001b[0m\u001b[0;34m)\u001b[0m\u001b[0;34m)\u001b[0m\u001b[0;34m)\u001b[0m\u001b[0;34m\u001b[0m\u001b[0;34m\u001b[0m\u001b[0m\n\u001b[0;32m----> 5\u001b[0;31m     \u001b[0mtester\u001b[0m\u001b[0;34m(\u001b[0m\u001b[0mDS_Generator\u001b[0m\u001b[0;34m(\u001b[0m\u001b[0mi\u001b[0m\u001b[0;34m)\u001b[0m\u001b[0;34m)\u001b[0m\u001b[0;34m\u001b[0m\u001b[0;34m\u001b[0m\u001b[0m\n\u001b[0m",
      "\u001b[0;32m<ipython-input-6-e25ade1c8f39>\u001b[0m in \u001b[0;36mDS_Generator\u001b[0;34m(n)\u001b[0m\n\u001b[1;32m      5\u001b[0m     \u001b[0mcsum\u001b[0m \u001b[0;34m=\u001b[0m \u001b[0;32mNone\u001b[0m\u001b[0;34m\u001b[0m\u001b[0;34m\u001b[0m\u001b[0m\n\u001b[1;32m      6\u001b[0m \u001b[0;34m\u001b[0m\u001b[0m\n\u001b[0;32m----> 7\u001b[0;31m     \u001b[0;32mwhile\u001b[0m \u001b[0;34m(\u001b[0m\u001b[0mnp\u001b[0m\u001b[0;34m.\u001b[0m\u001b[0many\u001b[0m\u001b[0;34m(\u001b[0m\u001b[0mrsum\u001b[0m \u001b[0;34m!=\u001b[0m \u001b[0;36m1\u001b[0m\u001b[0;34m)\u001b[0m\u001b[0;34m)\u001b[0m \u001b[0;34m|\u001b[0m \u001b[0;34m(\u001b[0m\u001b[0mnp\u001b[0m\u001b[0;34m.\u001b[0m\u001b[0many\u001b[0m\u001b[0;34m(\u001b[0m\u001b[0mcsum\u001b[0m \u001b[0;34m!=\u001b[0m \u001b[0;36m1\u001b[0m\u001b[0;34m)\u001b[0m\u001b[0;34m)\u001b[0m\u001b[0;34m:\u001b[0m\u001b[0;34m\u001b[0m\u001b[0;34m\u001b[0m\u001b[0m\n\u001b[0m\u001b[1;32m      8\u001b[0m         \u001b[0mx\u001b[0m \u001b[0;34m/=\u001b[0m \u001b[0mx\u001b[0m\u001b[0;34m.\u001b[0m\u001b[0msum\u001b[0m\u001b[0;34m(\u001b[0m\u001b[0;36m0\u001b[0m\u001b[0;34m)\u001b[0m\u001b[0;34m\u001b[0m\u001b[0;34m\u001b[0m\u001b[0m\n\u001b[1;32m      9\u001b[0m         \u001b[0mx\u001b[0m \u001b[0;34m=\u001b[0m \u001b[0mx\u001b[0m \u001b[0;34m/\u001b[0m \u001b[0mx\u001b[0m\u001b[0;34m.\u001b[0m\u001b[0msum\u001b[0m\u001b[0;34m(\u001b[0m\u001b[0;36m1\u001b[0m\u001b[0;34m)\u001b[0m\u001b[0;34m[\u001b[0m\u001b[0;34m:\u001b[0m\u001b[0;34m,\u001b[0m \u001b[0mnp\u001b[0m\u001b[0;34m.\u001b[0m\u001b[0mnewaxis\u001b[0m\u001b[0;34m]\u001b[0m\u001b[0;34m\u001b[0m\u001b[0;34m\u001b[0m\u001b[0m\n",
      "\u001b[0;32m<__array_function__ internals>\u001b[0m in \u001b[0;36many\u001b[0;34m(*args, **kwargs)\u001b[0m\n",
      "\u001b[0;31mKeyboardInterrupt\u001b[0m: "
     ]
    }
   ],
   "source": [
    "for i in range(2, 20):\n",
    "    print(i)\n",
    "    m = DS_Generator(i)\n",
    "    assert(np.allclose(m.sum(0), np.ones(i)))\n",
    "    tester(DS_Generator(i))"
   ]
  },
  {
   "cell_type": "code",
   "execution_count": null,
   "metadata": {},
   "outputs": [],
   "source": []
  }
 ],
 "metadata": {
  "kernelspec": {
   "display_name": "Python 3",
   "language": "python",
   "name": "python3"
  },
  "language_info": {
   "codemirror_mode": {
    "name": "ipython",
    "version": 3
   },
   "file_extension": ".py",
   "mimetype": "text/x-python",
   "name": "python",
   "nbconvert_exporter": "python",
   "pygments_lexer": "ipython3",
   "version": "3.7.4"
  }
 },
 "nbformat": 4,
 "nbformat_minor": 2
}
