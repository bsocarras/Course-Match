{
 "cells": [
  {
   "cell_type": "code",
   "execution_count": 132,
   "metadata": {},
   "outputs": [],
   "source": [
    "import sys\n",
    "\n",
    "import numpy as np\n",
    "import cvxpy as cp\n",
    "import math\n",
    "\n",
    "np.set_printoptions(precision=3)"
   ]
  },
  {
   "cell_type": "code",
   "execution_count": 120,
   "metadata": {},
   "outputs": [],
   "source": [
    "# Takes 2-D agent value np.ndarray and 1-D outside option np.ndarray\n",
    "# Returns Probability Distribution that satisfies Nash Bargaining Solution\n",
    "def NBS(val_mat, O_mat, prob_consts=1.0):\n",
    "    if type(val_mat) != np.ndarray:\n",
    "        raise Exception(\"val_mat must be type np.ndarray. Current type: \", type(val_mat))\n",
    "    if type(O_mat) != np.ndarray:\n",
    "        raise Exception(\"O must be type np.ndarray. Current type: \", type(O))\n",
    "    if np.ndim(val_mat) != 2:\n",
    "        raise Exception(\"val_mat must be a 2-D array. Current Shape: \", val_mat.shape)\n",
    "    if np.ndim(O_mat) != 1:\n",
    "        raise Exception(\"O must be a 1-D array. Current Shape: \", O.shape)\n",
    "        \n",
    "    V = cp.Parameter(val_mat.shape, nonneg=True)\n",
    "    V.value = val_mat\n",
    "    \n",
    "    O = cp.Parameter(O_mat.shape)\n",
    "    O.value = O_mat\n",
    "    \n",
    "    # create matrix of same shape holding probability variables\n",
    "    P = cp.Variable(nonneg=True, shape=V.shape)\n",
    "    U = cp.Variable(nonneg=True, shape=(V.shape[0],))\n",
    "    \n",
    "\n",
    "    # Setting Objective Function\n",
    "    objective_fn = cp.sum(-cp.log(U))\n",
    "#     objective_fn = 0\n",
    "#     for i in range(U.shape[0]):\n",
    "#         objective_fn -= cp.log(U[i]-O[i]) #_______________________________\n",
    "#     print(\"objective_fn: \", objective_fn)\n",
    "    \n",
    "    # Setting constraint that ∑_{j}p for all i <= 1\n",
    "    constraints = []\n",
    "    for i in range(V.shape[0]):\n",
    "        constraints.append(cp.sum(cp.multiply(P[i], V[i]))-O[i]-U[i]==0.0)\n",
    "        constraints.append(cp.sum(cp.multiply(P[i], V[i]))-O[i] >= 0.0)\n",
    "        constraints.append(cp.sum(P[i])<=prob_consts)\n",
    "\n",
    "    # Setting constraint that ∑_{i} p for all j <= 1\n",
    "    for j in range(V.shape[1]):\n",
    "        col_sum = 0\n",
    "        for i in range(V.shape[0]):\n",
    "            col_sum += P[i][j]\n",
    "        constraints.append(col_sum <= prob_consts)\n",
    "\n",
    "    problem = cp.Problem(cp.Minimize(objective_fn), constraints)\n",
    "    problem.solve()\n",
    "    \n",
    "    if P.value is None:\n",
    "        return P.value\n",
    "\n",
    "    P_vals = np.array(P.value)\n",
    "\n",
    "    return P_vals"
   ]
  },
  {
   "cell_type": "code",
   "execution_count": 96,
   "metadata": {},
   "outputs": [
    {
     "name": "stdout",
     "output_type": "stream",
     "text": [
      "O shape:  (3,)\n",
      "A shape:  (3, 5)\n",
      "Array: \n",
      " [[0.59024284 0.27186421 0.30129857 0.68020923 0.87239912]\n",
      " [0.19124566 0.29134386 0.65605424 0.49163814 0.94681575]\n",
      " [0.9039715  0.20068686 0.58048439 0.77656511 0.57591704]]\n",
      "Agent Sum Vals:  [2.71601397 2.57709765 3.0376249 ]\n",
      "O: \n",
      " [0.54320279 0.51541953 0.60752498]\n",
      "Agent  0  uniform utility:  0.5432027939999999\n",
      "Agent  1  uniform utility:  0.5154195300000001\n",
      "Agent  2  uniform utility:  0.6075249800000001\n",
      "NBS: \n",
      " [[4.02770906e-09 0.00000000e+00 0.00000000e+00 6.14596475e-01\n",
      "  3.85403520e-01]\n",
      " [0.00000000e+00 1.02554565e-09 3.85403516e-01 5.37162034e-09\n",
      "  6.14596476e-01]\n",
      " [9.99999978e-01 0.00000000e+00 2.38866991e-09 1.86962148e-08\n",
      "  0.00000000e+00]]\n"
     ]
    }
   ],
   "source": [
    "A = np.array([[0.59024284, 0.27186421, 0.30129857, 0.68020923, 0.87239912],\n",
    " [0.19124566, 0.29134386, 0.65605424, 0.49163814, 0.94681575],\n",
    " [0.9039715,  0.20068686, 0.58048439, 0.77656511, 0.57591704]])\n",
    "O = np.zeros(A.shape[0])\n",
    "\n",
    "cap = np.ones(A.shape[1])\n",
    "for i in range(O.size):\n",
    "    O[i] = np.sum(np.multiply(A[i], cap)) / 5\n",
    "print(\"O shape: \", O.shape)\n",
    "print(\"A shape: \", A.shape)\n",
    "print(\"Array: \\n\", A)\n",
    "print(\"Agent Sum Vals: \", np.sum(A, axis=1))\n",
    "print(\"O: \\n\", O)\n",
    "for i in range(3):\n",
    "    print(\"Agent \", i, \" uniform utility: \", np.sum(A[i] * 0.2))\n",
    "nb = NBS(A, O)\n",
    "print(\"NBS: \\n\", nb)"
   ]
  },
  {
   "cell_type": "code",
   "execution_count": 102,
   "metadata": {},
   "outputs": [
    {
     "name": "stdout",
     "output_type": "stream",
     "text": [
      "O shape:  (5,)\n",
      "B shape:  (5, 5)\n",
      "Array: \n",
      " [[0.78268411 0.31431919 0.01601237 0.23318279 0.49309724]\n",
      " [0.39540977 0.29893196 0.49814774 0.85194549 0.3870454 ]\n",
      " [0.47406927 0.91671614 0.397393   0.2115808  0.73576799]\n",
      " [0.         0.         0.         0.         0.        ]\n",
      " [0.         0.         0.         0.         0.        ]]\n",
      "Agent Sum Vals:  [1.8392957  2.43148036 2.7355272  0.         0.        ]\n",
      "Ob: \n",
      " [0.36785914 0.48629607 0.54710544 0.         0.        ]\n",
      "Agent  0  uniform utility:  0.36785914000000003\n",
      "Agent  1  uniform utility:  0.486296072\n",
      "Agent  2  uniform utility:  0.54710544\n"
     ]
    },
    {
     "ename": "SolverError",
     "evalue": "Solver 'ECOS' failed. Try another solver, or solve with verbose=True for more information.",
     "output_type": "error",
     "traceback": [
      "\u001b[0;31m---------------------------------------------------------------------------\u001b[0m",
      "\u001b[0;31mSolverError\u001b[0m                               Traceback (most recent call last)",
      "\u001b[0;32m<ipython-input-102-33c21eb72ca8>\u001b[0m in \u001b[0;36m<module>\u001b[0;34m\u001b[0m\n\u001b[1;32m     17\u001b[0m \u001b[0;32mfor\u001b[0m \u001b[0mi\u001b[0m \u001b[0;32min\u001b[0m \u001b[0mrange\u001b[0m\u001b[0;34m(\u001b[0m\u001b[0;36m3\u001b[0m\u001b[0;34m)\u001b[0m\u001b[0;34m:\u001b[0m\u001b[0;34m\u001b[0m\u001b[0;34m\u001b[0m\u001b[0m\n\u001b[1;32m     18\u001b[0m     \u001b[0mprint\u001b[0m\u001b[0;34m(\u001b[0m\u001b[0;34m\"Agent \"\u001b[0m\u001b[0;34m,\u001b[0m \u001b[0mi\u001b[0m\u001b[0;34m,\u001b[0m \u001b[0;34m\" uniform utility: \"\u001b[0m\u001b[0;34m,\u001b[0m \u001b[0mnp\u001b[0m\u001b[0;34m.\u001b[0m\u001b[0msum\u001b[0m\u001b[0;34m(\u001b[0m\u001b[0mB\u001b[0m\u001b[0;34m[\u001b[0m\u001b[0mi\u001b[0m\u001b[0;34m]\u001b[0m \u001b[0;34m*\u001b[0m \u001b[0;36m0.2\u001b[0m\u001b[0;34m)\u001b[0m\u001b[0;34m)\u001b[0m\u001b[0;34m\u001b[0m\u001b[0;34m\u001b[0m\u001b[0m\n\u001b[0;32m---> 19\u001b[0;31m \u001b[0mnbb\u001b[0m \u001b[0;34m=\u001b[0m \u001b[0mNBS\u001b[0m\u001b[0;34m(\u001b[0m\u001b[0mB\u001b[0m\u001b[0;34m,\u001b[0m \u001b[0mOb\u001b[0m\u001b[0;34m)\u001b[0m\u001b[0;34m\u001b[0m\u001b[0;34m\u001b[0m\u001b[0m\n\u001b[0m\u001b[1;32m     20\u001b[0m \u001b[0mprint\u001b[0m\u001b[0;34m(\u001b[0m\u001b[0;34m\"NBS: \\n\"\u001b[0m\u001b[0;34m,\u001b[0m \u001b[0mnbb\u001b[0m\u001b[0;34m)\u001b[0m\u001b[0;34m\u001b[0m\u001b[0;34m\u001b[0m\u001b[0m\n",
      "\u001b[0;32m<ipython-input-99-e7b0898dc909>\u001b[0m in \u001b[0;36mNBS\u001b[0;34m(val_mat, O_mat)\u001b[0m\n\u001b[1;32m     44\u001b[0m \u001b[0;34m\u001b[0m\u001b[0m\n\u001b[1;32m     45\u001b[0m     \u001b[0mproblem\u001b[0m \u001b[0;34m=\u001b[0m \u001b[0mcp\u001b[0m\u001b[0;34m.\u001b[0m\u001b[0mProblem\u001b[0m\u001b[0;34m(\u001b[0m\u001b[0mcp\u001b[0m\u001b[0;34m.\u001b[0m\u001b[0mMinimize\u001b[0m\u001b[0;34m(\u001b[0m\u001b[0mobjective_fn\u001b[0m\u001b[0;34m)\u001b[0m\u001b[0;34m,\u001b[0m \u001b[0mconstraints\u001b[0m\u001b[0;34m)\u001b[0m\u001b[0;34m\u001b[0m\u001b[0;34m\u001b[0m\u001b[0m\n\u001b[0;32m---> 46\u001b[0;31m     \u001b[0mproblem\u001b[0m\u001b[0;34m.\u001b[0m\u001b[0msolve\u001b[0m\u001b[0;34m(\u001b[0m\u001b[0;34m)\u001b[0m\u001b[0;34m\u001b[0m\u001b[0;34m\u001b[0m\u001b[0m\n\u001b[0m\u001b[1;32m     47\u001b[0m \u001b[0;34m\u001b[0m\u001b[0m\n\u001b[1;32m     48\u001b[0m     \u001b[0;32mif\u001b[0m \u001b[0mP\u001b[0m\u001b[0;34m.\u001b[0m\u001b[0mvalue\u001b[0m \u001b[0;32mis\u001b[0m \u001b[0;32mNone\u001b[0m\u001b[0;34m:\u001b[0m\u001b[0;34m\u001b[0m\u001b[0;34m\u001b[0m\u001b[0m\n",
      "\u001b[0;32m~/anaconda3/lib/python3.7/site-packages/cvxpy/problems/problem.py\u001b[0m in \u001b[0;36msolve\u001b[0;34m(self, *args, **kwargs)\u001b[0m\n\u001b[1;32m    393\u001b[0m         \u001b[0;32melse\u001b[0m\u001b[0;34m:\u001b[0m\u001b[0;34m\u001b[0m\u001b[0;34m\u001b[0m\u001b[0m\n\u001b[1;32m    394\u001b[0m             \u001b[0msolve_func\u001b[0m \u001b[0;34m=\u001b[0m \u001b[0mProblem\u001b[0m\u001b[0;34m.\u001b[0m\u001b[0m_solve\u001b[0m\u001b[0;34m\u001b[0m\u001b[0;34m\u001b[0m\u001b[0m\n\u001b[0;32m--> 395\u001b[0;31m         \u001b[0;32mreturn\u001b[0m \u001b[0msolve_func\u001b[0m\u001b[0;34m(\u001b[0m\u001b[0mself\u001b[0m\u001b[0;34m,\u001b[0m \u001b[0;34m*\u001b[0m\u001b[0margs\u001b[0m\u001b[0;34m,\u001b[0m \u001b[0;34m**\u001b[0m\u001b[0mkwargs\u001b[0m\u001b[0;34m)\u001b[0m\u001b[0;34m\u001b[0m\u001b[0;34m\u001b[0m\u001b[0m\n\u001b[0m\u001b[1;32m    396\u001b[0m \u001b[0;34m\u001b[0m\u001b[0m\n\u001b[1;32m    397\u001b[0m     \u001b[0;34m@\u001b[0m\u001b[0mclassmethod\u001b[0m\u001b[0;34m\u001b[0m\u001b[0;34m\u001b[0m\u001b[0m\n",
      "\u001b[0;32m~/anaconda3/lib/python3.7/site-packages/cvxpy/problems/problem.py\u001b[0m in \u001b[0;36m_solve\u001b[0;34m(self, solver, warm_start, verbose, gp, qcp, requires_grad, enforce_dpp, **kwargs)\u001b[0m\n\u001b[1;32m    745\u001b[0m         solution = solving_chain.solve_via_data(\n\u001b[1;32m    746\u001b[0m             self, data, warm_start, verbose, kwargs)\n\u001b[0;32m--> 747\u001b[0;31m         \u001b[0mself\u001b[0m\u001b[0;34m.\u001b[0m\u001b[0munpack_results\u001b[0m\u001b[0;34m(\u001b[0m\u001b[0msolution\u001b[0m\u001b[0;34m,\u001b[0m \u001b[0msolving_chain\u001b[0m\u001b[0;34m,\u001b[0m \u001b[0minverse_data\u001b[0m\u001b[0;34m)\u001b[0m\u001b[0;34m\u001b[0m\u001b[0;34m\u001b[0m\u001b[0m\n\u001b[0m\u001b[1;32m    748\u001b[0m         \u001b[0;32mreturn\u001b[0m \u001b[0mself\u001b[0m\u001b[0;34m.\u001b[0m\u001b[0mvalue\u001b[0m\u001b[0;34m\u001b[0m\u001b[0;34m\u001b[0m\u001b[0m\n\u001b[1;32m    749\u001b[0m \u001b[0;34m\u001b[0m\u001b[0m\n",
      "\u001b[0;32m~/anaconda3/lib/python3.7/site-packages/cvxpy/problems/problem.py\u001b[0m in \u001b[0;36munpack_results\u001b[0;34m(self, solution, chain, inverse_data)\u001b[0m\n\u001b[1;32m   1053\u001b[0m             raise error.SolverError(\n\u001b[1;32m   1054\u001b[0m                     \u001b[0;34m\"Solver '%s' failed. \"\u001b[0m \u001b[0;34m%\u001b[0m \u001b[0mchain\u001b[0m\u001b[0;34m.\u001b[0m\u001b[0msolver\u001b[0m\u001b[0;34m.\u001b[0m\u001b[0mname\u001b[0m\u001b[0;34m(\u001b[0m\u001b[0;34m)\u001b[0m \u001b[0;34m+\u001b[0m\u001b[0;34m\u001b[0m\u001b[0;34m\u001b[0m\u001b[0m\n\u001b[0;32m-> 1055\u001b[0;31m                     \u001b[0;34m\"Try another solver, or solve with verbose=True for more \"\u001b[0m\u001b[0;34m\u001b[0m\u001b[0;34m\u001b[0m\u001b[0m\n\u001b[0m\u001b[1;32m   1056\u001b[0m                     \"information.\")\n\u001b[1;32m   1057\u001b[0m         \u001b[0mself\u001b[0m\u001b[0;34m.\u001b[0m\u001b[0munpack\u001b[0m\u001b[0;34m(\u001b[0m\u001b[0msolution\u001b[0m\u001b[0;34m)\u001b[0m\u001b[0;34m\u001b[0m\u001b[0;34m\u001b[0m\u001b[0m\n",
      "\u001b[0;31mSolverError\u001b[0m: Solver 'ECOS' failed. Try another solver, or solve with verbose=True for more information."
     ]
    }
   ],
   "source": [
    "B = np.array([[0.78268411, 0.31431919, 0.01601237, 0.23318279, 0.49309724],\n",
    " [0.39540977, 0.29893196, 0.49814774, 0.85194549, 0.3870454 ],\n",
    " [0.47406927, 0.91671614, 0.397393,   0.2115808,  0.73576799],\n",
    "             [0,0,0,0,0], [0,0,0,0,0]])\n",
    "\n",
    "Ob = np.zeros(B.shape[0])\n",
    "\n",
    "cap = np.ones(B.shape[1])\n",
    "for i in range(Ob.size):\n",
    "    Ob[i] = np.sum(np.multiply(B[i], cap)) / B.shape[1]\n",
    "    \n",
    "print(\"O shape: \", Ob.shape)\n",
    "print(\"B shape: \", B.shape)\n",
    "print(\"Array: \\n\", B)\n",
    "print(\"Agent Sum Vals: \", np.sum(B, axis=1))\n",
    "print(\"Ob: \\n\", Ob)\n",
    "for i in range(3):\n",
    "    print(\"Agent \", i, \" uniform utility: \", np.sum(B[i] * 0.2))\n",
    "nbb = NBS(B, Ob)\n",
    "print(\"NBS: \\n\", nbb)"
   ]
  },
  {
   "cell_type": "code",
   "execution_count": 106,
   "metadata": {},
   "outputs": [],
   "source": [
    "def pref_att(num_agents, num_items, p):\n",
    "    array = np.zeros(shape=(num_agents, num_items))\n",
    "    array[0] = np.random.rand(num_items)\n",
    "    for i in range(1, num_agents):\n",
    "        rint = np.random.randint(0, i)\n",
    "        array[i] = array[rint]\n",
    "        for j in range(1, num_items):\n",
    "            r = np.random.rand()\n",
    "            if r < p:\n",
    "                array[i][j] = np.random.rand()\n",
    "    return array"
   ]
  },
  {
   "cell_type": "code",
   "execution_count": 142,
   "metadata": {},
   "outputs": [
    {
     "name": "stdout",
     "output_type": "stream",
     "text": [
      "selected: \n",
      " [[0.464 0.183 0.408 0.397 0.49  0.042 0.247 0.066]\n",
      " [0.464 0.416 0.212 0.001 0.482 0.066 0.039 0.318]\n",
      " [0.464 0.106 0.131 0.463 0.049 0.372 0.492 0.056]\n",
      " [0.464 0.013 0.267 0.44  0.442 0.207 0.491 0.453]]\n",
      "O: \n",
      " [0.144 0.125 0.133 0.174]\n",
      "NBS: \n",
      " [[1.951e-07 6.935e-10 3.345e-08 1.928e-08 5.000e-01 0.000e+00 1.076e-09\n",
      "  0.000e+00]\n",
      " [5.000e-01 7.602e-08 1.711e-09 0.000e+00 2.213e-07 0.000e+00 0.000e+00\n",
      "  6.732e-09]\n",
      " [4.057e-08 0.000e+00 0.000e+00 5.000e-01 0.000e+00 9.060e-09 1.467e-07\n",
      "  0.000e+00]\n",
      " [3.681e-08 0.000e+00 4.560e-10 2.753e-08 1.015e-08 0.000e+00 5.000e-01\n",
      "  9.788e-08]]\n",
      "Agent sums: \n",
      " [0.5 0.5 0.5 0.5]\n",
      "Item sums: \n",
      " [5.000e-01 7.671e-08 3.562e-08 5.000e-01 5.000e-01 9.060e-09 5.000e-01\n",
      " 1.046e-07]\n"
     ]
    }
   ],
   "source": [
    "ar = pref_att(8,8,1.0)\n",
    "half_ar = ar[0:4]/2\n",
    "print(\"selected: \\n\", half_ar)\n",
    "caps = np.ones(8)\n",
    "avail_caps = caps/2\n",
    "\n",
    "O = np.zeros(4)\n",
    "for i in range(4):\n",
    "    O[i] = np.sum(np.multiply(avail_caps, half_ar[i]))/8\n",
    "print(\"O: \\n\", O)\n",
    "\n",
    "\n",
    "nbs = NBS(half_ar, O, 0.5)\n",
    "print(\"NBS: \\n\", nbs)\n",
    "print(\"Agent sums: \\n\", np.sum(nbs, axis=1))\n",
    "print(\"Item sums: \\n\", np.sum(nbs, axis=0))"
   ]
  },
  {
   "cell_type": "code",
   "execution_count": 134,
   "metadata": {},
   "outputs": [
    {
     "data": {
      "text/plain": [
       "float"
      ]
     },
     "execution_count": 134,
     "metadata": {},
     "output_type": "execute_result"
    }
   ],
   "source": [
    "type(sys.float_info.epsilon)"
   ]
  },
  {
   "cell_type": "code",
   "execution_count": null,
   "metadata": {},
   "outputs": [],
   "source": []
  }
 ],
 "metadata": {
  "kernelspec": {
   "display_name": "Python 3",
   "language": "python",
   "name": "python3"
  },
  "language_info": {
   "codemirror_mode": {
    "name": "ipython",
    "version": 3
   },
   "file_extension": ".py",
   "mimetype": "text/x-python",
   "name": "python",
   "nbconvert_exporter": "python",
   "pygments_lexer": "ipython3",
   "version": "3.7.4"
  }
 },
 "nbformat": 4,
 "nbformat_minor": 2
}
