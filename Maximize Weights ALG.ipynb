{
 "cells": [
  {
   "cell_type": "code",
   "execution_count": 1,
   "metadata": {},
   "outputs": [],
   "source": [
    "from ortools.linear_solver import pywraplp\n",
    "import numpy as np\n",
    "\n"
   ]
  },
  {
   "cell_type": "code",
   "execution_count": 2,
   "metadata": {},
   "outputs": [],
   "source": [
    "# data = np.array([['1', 9, 8, 0],\n",
    "#             ['2', 7, 6, 2],\n",
    "#             ['3', 6, 2, 4]])\n",
    "\n",
    "data = np.array([['1', 8, 7],\n",
    "               ['2', 6, 3]])"
   ]
  },
  {
   "cell_type": "code",
   "execution_count": 3,
   "metadata": {},
   "outputs": [],
   "source": [
    "def Max_Weights(data):\n",
    "    # Setting up necessary and useful variables for rest of function\n",
    "    p = [] # Prices vector, turned into a matrix into a vector\n",
    "    rows, columns = data.shape\n",
    "    solver = pywraplp.Solver('Maximum Weights',\n",
    "                               pywraplp.Solver.GLOP_LINEAR_PROGRAMMING)\n",
    "    \n",
    "    # Objective: maximize ∑∑v*p for all agents values for courses v \n",
    "    # and probabilities of recieving courses p \n",
    "    objective = solver.Objective()\n",
    "    for i in range(rows):\n",
    "        agent_s = data[i][0]\n",
    "        for j in range (1, columns):\n",
    "            p.append(solver.NumVar(0.0, 1.0, agent_s))\n",
    "            objective.SetCoefficient(p[i*(columns-1)+j-1], int(data[i][j]))\n",
    "    objective.SetMaximization()\n",
    "    \n",
    "    \n",
    "\n",
    "    # Setting constraints\n",
    "    row_consts = []\n",
    "    col_consts = []\n",
    "\n",
    "\n",
    "\n",
    "    # Setting row constraints (Sum of all rows of p is 1)\n",
    "    for i in range(rows):\n",
    "        coeffs = np.zeros(len(p)) # done to avoid if branch in for loop when setting coefficients\n",
    "        row_consts.append(solver.Constraint(1.0, 1.0)) # do these bounds work?????????????\n",
    "        j=i*(columns - 1)\n",
    "        while j < (i+1)*(columns - 1):\n",
    "            coeffs[j] = 1\n",
    "            j += 1 \n",
    "        for k in range(len(p)):\n",
    "            row_consts[i].SetCoefficient(p[k], coeffs[k])\n",
    "\n",
    "    # Setting column constraints (Sum of all columns of p is 1)\n",
    "    for i in range(columns - 1): \n",
    "        coeffs = np.zeros(len(p)) # done to avoid if branch in for loop when setting coefficients\n",
    "        col_consts.append(solver.Constraint(1.0, 1.0)) # still unsure of bounds\n",
    "        j = i\n",
    "        while j < len(p):\n",
    "            coeffs[j] = 1\n",
    "            j += columns - 1 # assuming data format will be the same\n",
    "        for k in range(len(p)):\n",
    "            col_consts[i].SetCoefficient(p[k], coeffs[k])\n",
    "\n",
    "\n",
    "    # Display results\n",
    "    status = solver.Solve()\n",
    "    mat = np.zeros(len(p))\n",
    "    mat.shape = (rows, (columns - 1))\n",
    "    for i in range(rows):\n",
    "        for j in range(columns-1):\n",
    "            mat[i][j] = p[i*(columns-1)+j].solution_value()\n",
    "    return mat"
   ]
  },
  {
   "cell_type": "code",
   "execution_count": 4,
   "metadata": {},
   "outputs": [
    {
     "name": "stdout",
     "output_type": "stream",
     "text": [
      "[[0. 1.]\n",
      " [1. 0.]]\n"
     ]
    }
   ],
   "source": [
    "print(Max_Weights(data))"
   ]
  },
  {
   "cell_type": "code",
   "execution_count": null,
   "metadata": {},
   "outputs": [],
   "source": []
  }
 ],
 "metadata": {
  "kernelspec": {
   "display_name": "Python 3",
   "language": "python",
   "name": "python3"
  },
  "language_info": {
   "codemirror_mode": {
    "name": "ipython",
    "version": 3
   },
   "file_extension": ".py",
   "mimetype": "text/x-python",
   "name": "python",
   "nbconvert_exporter": "python",
   "pygments_lexer": "ipython3",
   "version": "3.7.4"
  }
 },
 "nbformat": 4,
 "nbformat_minor": 2
}
